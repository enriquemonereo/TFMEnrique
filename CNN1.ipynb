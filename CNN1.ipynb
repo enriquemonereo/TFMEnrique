{
 "cells": [
  {
   "cell_type": "code",
   "execution_count": 1,
   "metadata": {},
   "outputs": [],
   "source": [
    "import pandas as pd\n",
    "import numpy as np\n",
    "import matplotlib.pyplot as plt\n",
    "import math\n",
    "import matplotlib as mpl"
   ]
  },
  {
   "cell_type": "code",
   "execution_count": 68,
   "metadata": {},
   "outputs": [],
   "source": [
    "from hyperopt import Trials, STATUS_OK, tpe\n",
    "import optim\n",
    "from hyperopt.hp import choice\n",
    "from hyperopt.hp import uniform\n",
    "import tensorflow as tf\n",
    "from __future__ import print_function\n",
    "from hyperas import optim\n",
    "from hyperas.distributions import choice, uniform#, conditional\n"
   ]
  },
  {
   "cell_type": "code",
   "execution_count": 2,
   "metadata": {},
   "outputs": [
    {
     "name": "stderr",
     "output_type": "stream",
     "text": [
      "Using TensorFlow backend.\n"
     ]
    }
   ],
   "source": [
    "import keras"
   ]
  },
  {
   "cell_type": "code",
   "execution_count": 3,
   "metadata": {},
   "outputs": [],
   "source": [
    "from keras.layers import Dense,Dropout,Flatten,Conv1D,MaxPooling1D,Input,Conv2D,MaxPooling2D,Reshape,SeparableConv1D,BatchNormalization\n",
    "from keras.models import Sequential,Model\n",
    "from keras.optimizers import Adam,sgd\n",
    "import keras.optimizers"
   ]
  },
  {
   "cell_type": "code",
   "execution_count": 4,
   "metadata": {},
   "outputs": [],
   "source": [
    "from keras.utils import to_categorical"
   ]
  },
  {
   "cell_type": "code",
   "execution_count": 5,
   "metadata": {},
   "outputs": [],
   "source": [
    "Adam = keras.optimizers.Adam(lr=0.001,beta_1=0.9,beta_2=0.9)\n",
    "\n"
   ]
  },
  {
   "cell_type": "markdown",
   "metadata": {},
   "source": [
    "# Cargo datos y quito columna indices"
   ]
  },
  {
   "cell_type": "code",
   "execution_count": 6,
   "metadata": {},
   "outputs": [],
   "source": [
    "caracteristicas=np.loadtxt('/../Users/kike/Desktop/Master/TFM/characteristics_todas.dat')\n",
    "labels=np.loadtxt('/../Users/kike/Desktop/Master/TFM/labels_todas.dat')"
   ]
  },
  {
   "cell_type": "code",
   "execution_count": 7,
   "metadata": {},
   "outputs": [],
   "source": [
    "labels0=labels[0:5400,0]\n",
    "labels0=labels0.reshape(5400,1,1)\n"
   ]
  },
  {
   "cell_type": "code",
   "execution_count": 8,
   "metadata": {},
   "outputs": [],
   "source": [
    "labels0=labels[0:5400,0]\n",
    "labels0=labels0.reshape(5400,1,1)\n",
    "labels1=labels[0:5400,1]\n",
    "labels1=labels1.reshape(5400,1,1)\n",
    "labels2=labels[0:5400,2]\n",
    "labels2=labels2.reshape(5400,1,1)\n",
    "labels3=labels[0:5400,3]\n",
    "labels3=labels3.reshape(5400,1,1)\n",
    "labels4=labels[0:5400,4]\n",
    "labels4=labels4.reshape(5400,1,1)"
   ]
  },
  {
   "cell_type": "code",
   "execution_count": 9,
   "metadata": {},
   "outputs": [],
   "source": [
    "#labels0.shape"
   ]
  },
  {
   "cell_type": "code",
   "execution_count": 10,
   "metadata": {},
   "outputs": [],
   "source": [
    "carac=caracteristicas[0:5400,1:13]"
   ]
  },
  {
   "cell_type": "code",
   "execution_count": 11,
   "metadata": {},
   "outputs": [
    {
     "name": "stdout",
     "output_type": "stream",
     "text": [
      "(5400, 12)\n"
     ]
    }
   ],
   "source": [
    "print(carac.shape)\n",
    "n_cols=carac.shape[1]"
   ]
  },
  {
   "cell_type": "code",
   "execution_count": 12,
   "metadata": {},
   "outputs": [],
   "source": [
    "#X=carac0.reshape(5400,1,1)\n",
    "#X.shape\n",
    "#Y=labels0.reshape(5400,1,1)\n",
    "#X.shape"
   ]
  },
  {
   "cell_type": "markdown",
   "metadata": {},
   "source": [
    "# Normalización y reshape"
   ]
  },
  {
   "cell_type": "code",
   "execution_count": 13,
   "metadata": {},
   "outputs": [
    {
     "name": "stdout",
     "output_type": "stream",
     "text": [
      "12\n"
     ]
    }
   ],
   "source": [
    "mean=carac.mean(axis=0)\n",
    "carac -= mean\n",
    "std = carac.std(axis=0)\n",
    "carac /=std\n",
    "print(carac.shape[1])\n"
   ]
  },
  {
   "cell_type": "code",
   "execution_count": 14,
   "metadata": {},
   "outputs": [
    {
     "name": "stdout",
     "output_type": "stream",
     "text": [
      "5\n"
     ]
    }
   ],
   "source": [
    "meany=labels.mean(axis=0)\n",
    "labels -= meany\n",
    "stdy = labels.std(axis=0)\n",
    "labels /=stdy\n",
    "print(labels.shape[1])"
   ]
  },
  {
   "cell_type": "code",
   "execution_count": 15,
   "metadata": {},
   "outputs": [
    {
     "data": {
      "text/plain": [
       "(5400, 1, 12)"
      ]
     },
     "execution_count": 15,
     "metadata": {},
     "output_type": "execute_result"
    }
   ],
   "source": [
    "carac=carac.reshape(5400,1,12)\n",
    "labels=labels.reshape(5400,1,5)\n",
    "carac.shape"
   ]
  },
  {
   "cell_type": "markdown",
   "metadata": {},
   "source": [
    "# Método Sequential"
   ]
  },
  {
   "cell_type": "code",
   "execution_count": 16,
   "metadata": {},
   "outputs": [
    {
     "name": "stdout",
     "output_type": "stream",
     "text": [
      "[[[-0.91605716 -1.19510684 -1.42565244  0.85997226 -1.12209898]]\n",
      "\n",
      " [[-0.91605716 -0.90002328 -1.02802752  0.9478883  -0.99267399]]\n",
      "\n",
      " [[-0.91605716 -0.8536268  -1.11185024  0.9878503  -0.87818226]]\n",
      "\n",
      " ...\n",
      "\n",
      " [[ 1.90610058  0.88799845  0.8729402  -3.1356792   3.5869951 ]]\n",
      "\n",
      " [[ 1.90610058  1.338924    1.2707552  -3.53529763  4.08478599]]\n",
      "\n",
      " [[ 1.90610058  1.77600506  1.58414532 -3.80970222  4.48799526]]]\n"
     ]
    }
   ],
   "source": [
    "print labels"
   ]
  },
  {
   "cell_type": "code",
   "execution_count": 21,
   "metadata": {},
   "outputs": [],
   "source": [
    "carac=carac.reshape(40,135,12)\n",
    "labels=labels.reshape(40,135,5)\n",
    "labels0=labels0.reshape(40,135,1) \n",
    "labels1=labels1.reshape(40,135,1)\n",
    "labels2=labels2.reshape(40,135,1)\n",
    "labels3=labels3.reshape(40,135,1)\n",
    "labels4=labels4.reshape(40,135,1)"
   ]
  },
  {
   "cell_type": "code",
   "execution_count": 28,
   "metadata": {},
   "outputs": [],
   "source": [
    "carac=carac.reshape(5400,1,12)\n",
    "labels=labels.reshape(5400,1,5)\n",
    "labels0=labels0.reshape(5400,1,1)\n",
    "labels1=labels1.reshape(5400,1,1)\n",
    "labels2=labels2.reshape(5400,1,1)\n",
    "labels3=labels3.reshape(5400,1,1)\n",
    "labels4=labels4.reshape(5400,1,1)"
   ]
  },
  {
   "cell_type": "code",
   "execution_count": 19,
   "metadata": {},
   "outputs": [],
   "source": [
    "Adam = keras.optimizers.Adam(lr=0.001,beta_1=0.9,beta_2=0.9)\n",
    "sgd=keras.optimizers.SGD(learning_rate=0.02, momentum=0.1, nesterov=False)"
   ]
  },
  {
   "cell_type": "code",
   "execution_count": 29,
   "metadata": {},
   "outputs": [
    {
     "name": "stdout",
     "output_type": "stream",
     "text": [
      "Train on 3779 samples, validate on 1621 samples\n",
      "Epoch 1/10000\n",
      "3779/3779 [==============================] - 0s 71us/step - loss: 0.7335 - mse: 0.7335 - val_loss: 1.5926 - val_mse: 1.5926\n",
      "Epoch 2/10000\n",
      "3779/3779 [==============================] - 0s 40us/step - loss: 0.6623 - mse: 0.6623 - val_loss: 1.5811 - val_mse: 1.5811\n",
      "Epoch 3/10000\n",
      "3779/3779 [==============================] - 0s 57us/step - loss: 0.6478 - mse: 0.6478 - val_loss: 1.5832 - val_mse: 1.5832\n",
      "Epoch 4/10000\n",
      "3779/3779 [==============================] - 0s 39us/step - loss: 0.6441 - mse: 0.6441 - val_loss: 1.5876 - val_mse: 1.5876\n",
      "Epoch 5/10000\n",
      "3779/3779 [==============================] - 0s 39us/step - loss: 0.6431 - mse: 0.6431 - val_loss: 1.5882 - val_mse: 1.5882\n",
      "Epoch 6/10000\n",
      "3779/3779 [==============================] - 0s 39us/step - loss: 0.6428 - mse: 0.6428 - val_loss: 1.5860 - val_mse: 1.5860\n",
      "Epoch 7/10000\n",
      "3779/3779 [==============================] - 0s 39us/step - loss: 0.6427 - mse: 0.6427 - val_loss: 1.5860 - val_mse: 1.5860\n",
      "Epoch 8/10000\n",
      "3779/3779 [==============================] - 0s 38us/step - loss: 0.6427 - mse: 0.6427 - val_loss: 1.5846 - val_mse: 1.5846\n",
      "Epoch 9/10000\n",
      "3779/3779 [==============================] - 0s 38us/step - loss: 0.6427 - mse: 0.6427 - val_loss: 1.5856 - val_mse: 1.5856\n",
      "Epoch 10/10000\n",
      "3779/3779 [==============================] - 0s 39us/step - loss: 0.6427 - mse: 0.6427 - val_loss: 1.5844 - val_mse: 1.5844\n",
      "Epoch 11/10000\n",
      "3779/3779 [==============================] - 0s 45us/step - loss: 0.6427 - mse: 0.6427 - val_loss: 1.5856 - val_mse: 1.5856\n",
      "Epoch 12/10000\n",
      "3779/3779 [==============================] - 0s 56us/step - loss: 0.6426 - mse: 0.6426 - val_loss: 1.5869 - val_mse: 1.5869\n",
      "Epoch 13/10000\n",
      "3779/3779 [==============================] - 0s 41us/step - loss: 0.6427 - mse: 0.6427 - val_loss: 1.5868 - val_mse: 1.5868\n",
      "Epoch 14/10000\n",
      "3779/3779 [==============================] - 0s 39us/step - loss: 0.6427 - mse: 0.6427 - val_loss: 1.5856 - val_mse: 1.5856\n",
      "Epoch 15/10000\n",
      "3779/3779 [==============================] - 0s 39us/step - loss: 0.6426 - mse: 0.6426 - val_loss: 1.5845 - val_mse: 1.5845\n",
      "Epoch 16/10000\n",
      "3779/3779 [==============================] - 0s 38us/step - loss: 0.6427 - mse: 0.6427 - val_loss: 1.5863 - val_mse: 1.5863\n",
      "Epoch 17/10000\n",
      "3779/3779 [==============================] - 0s 51us/step - loss: 0.6425 - mse: 0.6425 - val_loss: 1.5882 - val_mse: 1.5882\n",
      "Epoch 18/10000\n",
      "3779/3779 [==============================] - 0s 62us/step - loss: 0.6427 - mse: 0.6427 - val_loss: 1.5856 - val_mse: 1.5856\n",
      "Epoch 19/10000\n",
      "3779/3779 [==============================] - 0s 59us/step - loss: 0.6426 - mse: 0.6426 - val_loss: 1.5854 - val_mse: 1.5854\n",
      "Epoch 20/10000\n",
      "3779/3779 [==============================] - 0s 47us/step - loss: 0.6426 - mse: 0.6426 - val_loss: 1.5873 - val_mse: 1.5873\n",
      "Epoch 21/10000\n",
      "3779/3779 [==============================] - 0s 72us/step - loss: 0.6426 - mse: 0.6426 - val_loss: 1.5859 - val_mse: 1.5859\n",
      "Epoch 22/10000\n",
      "3779/3779 [==============================] - 0s 56us/step - loss: 0.6426 - mse: 0.6426 - val_loss: 1.5869 - val_mse: 1.5869\n",
      "Epoch 23/10000\n",
      "3779/3779 [==============================] - 0s 52us/step - loss: 0.6426 - mse: 0.6426 - val_loss: 1.5858 - val_mse: 1.5858\n",
      "Epoch 24/10000\n",
      "3779/3779 [==============================] - 0s 45us/step - loss: 0.6426 - mse: 0.6426 - val_loss: 1.5860 - val_mse: 1.5860\n",
      "Epoch 25/10000\n",
      "3779/3779 [==============================] - 0s 38us/step - loss: 0.6427 - mse: 0.6427 - val_loss: 1.5864 - val_mse: 1.5864\n",
      "Epoch 26/10000\n",
      "3779/3779 [==============================] - 0s 37us/step - loss: 0.6427 - mse: 0.6427 - val_loss: 1.5865 - val_mse: 1.5865\n",
      "Epoch 27/10000\n",
      "3779/3779 [==============================] - 0s 42us/step - loss: 0.6426 - mse: 0.6426 - val_loss: 1.5867 - val_mse: 1.5867\n",
      "Epoch 28/10000\n",
      "3779/3779 [==============================] - 0s 38us/step - loss: 0.6426 - mse: 0.6426 - val_loss: 1.5866 - val_mse: 1.5866\n",
      "Epoch 29/10000\n",
      "3779/3779 [==============================] - 0s 33us/step - loss: 0.6426 - mse: 0.6426 - val_loss: 1.5854 - val_mse: 1.5854\n",
      "Epoch 30/10000\n",
      "3779/3779 [==============================] - 0s 39us/step - loss: 0.6427 - mse: 0.6427 - val_loss: 1.5835 - val_mse: 1.5835\n",
      "Epoch 31/10000\n",
      "3779/3779 [==============================] - 0s 42us/step - loss: 0.6426 - mse: 0.6426 - val_loss: 1.5834 - val_mse: 1.5834\n",
      "Epoch 32/10000\n",
      "3779/3779 [==============================] - 0s 43us/step - loss: 0.6426 - mse: 0.6426 - val_loss: 1.5831 - val_mse: 1.5831\n"
     ]
    },
    {
     "data": {
      "text/plain": [
       "[<matplotlib.lines.Line2D at 0x141ba0710>]"
      ]
     },
     "execution_count": 29,
     "metadata": {},
     "output_type": "execute_result"
    },
    {
     "data": {
      "image/png": "[encoded data removed]",
      "text/plain": [
       "<Figure size 432x288 with 1 Axes>"
      ]
     },
     "metadata": {
      "needs_background": "light"
     },
     "output_type": "display_data"
    }
   ],
   "source": [
    "modelo=Sequential()\n",
    "modelo.add(Conv1D(padding='same',filters=5,kernel_size=10\n",
    "                  ,input_shape=(1,12)\n",
    "                  #,strides=2\n",
    "                 ))\n",
    "modelo.add=MaxPooling1D(100)\n",
    "#modelo.add=Conv1D(filters=10,kernel_size=8,padding='same')\n",
    "#modelo.add=MaxPooling1D(20)\n",
    "#modelo.add=BatchNormalization(axis=-1)\n",
    "#modelo.add=Flatten()\n",
    "modelo.add=Dense(30,activation='tanh')\n",
    "#modelo.add=Dense(10,activation='tanh')\n",
    "modelo.add=Dense(5,activation='linear')\n",
    "EarlyStopping=keras.callbacks.EarlyStopping(monitor='val_loss', patience=30, verbose=0, mode='auto', baseline=None, restore_best_weights=False)\n",
    "modelo.compile(loss=keras.losses.mse,optimizer=sgd,metrics=['mse']) \n",
    "history=modelo.fit(x=carac,y=labels,batch_size=40,epochs=10000,verbose=1,validation_split=0.3,\n",
    "                   callbacks=[EarlyStopping]\n",
    "                  )\n",
    "plt.figure()\n",
    "plt.plot(np.sqrt(history.history['loss']))\n",
    "plt.plot(np.sqrt(history.history['val_loss']))"
   ]
  },
  {
   "cell_type": "markdown",
   "metadata": {},
   "source": [
    "labels0 es metalicidad\n",
    "\n",
    "labels1 edad media pesada en masa \n",
    "\n",
    "labels2 edad media pesada en luz\n",
    "\n",
    "labels3 HdA\n",
    "\n",
    "labels4 D4000\n",
    "\n",
    "github: psanchezb"
   ]
  },
  {
   "cell_type": "code",
   "execution_count": 25,
   "metadata": {},
   "outputs": [
    {
     "name": "stdout",
     "output_type": "stream",
     "text": [
      "1.9061005844776393\n",
      "-0.9160571620865134\n",
      "3.3906358598478246\n",
      "-1.2537175457277216\n",
      "4.177340742630897\n",
      "-1.7166074677022694\n",
      "1.4237007211476143\n",
      "-4.226903996196858\n",
      "5.160011907631329\n",
      "-1.2266350147101979\n"
     ]
    }
   ],
   "source": [
    "maximo0=np.max(labels0)\n",
    "minimo0=np.min(labels0)\n",
    "maximo1=np.max(labels1)\n",
    "minimo1=np.min(labels1)\n",
    "maximo2=np.max(labels2)\n",
    "minimo2=np.min(labels2)\n",
    "maximo3=np.max(labels3)\n",
    "minimo3=np.min(labels3)\n",
    "maximo4=np.max(labels4)\n",
    "minimo4=np.min(labels4)\n",
    "print(maximo0)\n",
    "print(minimo0)\n",
    "print(maximo1)\n",
    "print(minimo1)\n",
    "print(maximo2)\n",
    "print(minimo2)\n",
    "print(maximo3)\n",
    "print(minimo3)\n",
    "print(maximo4)\n",
    "print(minimo4)"
   ]
  },
  {
   "cell_type": "markdown",
   "metadata": {},
   "source": [
    "# Aqui empiezo con Hyperas\n"
   ]
  },
  {
   "cell_type": "markdown",
   "metadata": {},
   "source": [
    "Voy a separar entre datos de entrenamiento y de test:"
   ]
  },
  {
   "cell_type": "code",
   "execution_count": 58,
   "metadata": {},
   "outputs": [],
   "source": [
    "X_train=carac[0:3800,0,0:12]\n",
    "X_test=carac[3800:5401,0,0:12]\n",
    "Y_train=labels[0:3800,0,0:5]\n",
    "Y_test=labels[3800:5400,0,0:5]\n",
    "Y0_train=labels[0:3800,0,0]\n",
    "Y0_test=labels[3800:5400,0,0]\n",
    "Y1_train=labels[0:3800,0,1]\n",
    "Y1_test=labels[3800:5400,0,1]\n",
    "Y2_train=labels[0:3800,0,2]\n",
    "Y2_test=labels[3800:5400,0,2]\n",
    "Y3_train=labels[0:3800,0,3]\n",
    "Y3_test=labels[3800:5400,0,3]\n",
    "Y4_train=labels[0:3800,0,4]\n",
    "Y4_test=labels[3800:5400,0,4]"
   ]
  },
  {
   "cell_type": "markdown",
   "metadata": {},
   "source": [
    "Esto es de la web de hyperas adaptado en mis datos pero aun no se muy bien como funciona"
   ]
  },
  {
   "cell_type": "code",
   "execution_count": 74,
   "metadata": {},
   "outputs": [],
   "source": [
    "def model(X_train,Y_train, X_test, Y_test):\n",
    "    model=Sequential()\n",
    "    model.add(Conv1D(padding='same',filters=5\n",
    "                  ,kernel_size=({{choice([10,30,50,100])}})\n",
    "                  ,input_shape=(1,12)\n",
    "                  #,strides=2\n",
    "                 ))\n",
    "    model.add=Dense(5,activation='linear')\n",
    "    model.fit(X_train, Y_train\n",
    "             ,batch_size={{choice([40,80])}}\n",
    "             ,verbose=1\n",
    "             ,epochs=100\n",
    "             ,show_accuracy=True\n",
    "             ,validation_data=(X_test, Y_test)\n",
    "             )\n",
    "    score,acc = model.evaluate(X_test,Y_test,show_accuracy=True,verbose=0)\n",
    "    print('Test accuracy:',acc)\n",
    "    return {'loss': -acc, 'status': STATUS_OK, 'model': model}\n",
    "\n",
    "#if __name__ == '__main__':\n",
    "#    best_run, best_model =optim.minimize(model=model,\n",
    " #                                       data=data,\n",
    "  #                                      algo=tpe.suggest,\n",
    "   #                                     max_evals=5,\n",
    "    #                                    trials=Trials())\n",
    "    #X_train, Y_train, X_test, Y_test =data()\n",
    "    #print(\"Evaluation of best performing model:\")\n",
    "    #print(best_model.evaluate(X_test,Y_test))"
   ]
  },
  {
   "cell_type": "code",
   "execution_count": 71,
   "metadata": {},
   "outputs": [
    {
     "ename": "NameError",
     "evalue": "name 'acc' is not defined",
     "output_type": "error",
     "traceback": [
      "\u001b[0;31m---------------------------------------------------------------------------\u001b[0m",
      "\u001b[0;31mNameError\u001b[0m                                 Traceback (most recent call last)",
      "\u001b[0;32m<ipython-input-71-3a3c6286e896>\u001b[0m in \u001b[0;36m<module>\u001b[0;34m()\u001b[0m\n\u001b[0;32m----> 1\u001b[0;31m \u001b[0;32mprint\u001b[0m\u001b[0;34m(\u001b[0m\u001b[0;34m'Test accuracy:'\u001b[0m\u001b[0;34m,\u001b[0m\u001b[0macc\u001b[0m\u001b[0;34m)\u001b[0m\u001b[0;34m\u001b[0m\u001b[0m\n\u001b[0m\u001b[1;32m      2\u001b[0m \u001b[0;34m\u001b[0m\u001b[0m\n",
      "\u001b[0;31mNameError\u001b[0m: name 'acc' is not defined"
     ]
    }
   ],
   "source": [
    "\n"
   ]
  },
  {
   "cell_type": "code",
   "execution_count": null,
   "metadata": {},
   "outputs": [],
   "source": []
  },
  {
   "cell_type": "code",
   "execution_count": null,
   "metadata": {
    "scrolled": true
   },
   "outputs": [],
   "source": []
  },
  {
   "cell_type": "code",
   "execution_count": null,
   "metadata": {},
   "outputs": [],
   "source": []
  },
  {
   "cell_type": "code",
   "execution_count": null,
   "metadata": {},
   "outputs": [],
   "source": []
  },
  {
   "cell_type": "code",
   "execution_count": null,
   "metadata": {},
   "outputs": [],
   "source": []
  }
 ],
 "metadata": {
  "kernelspec": {
   "display_name": "Python 2",
   "language": "python",
   "name": "python2"
  },
  "language_info": {
   "codemirror_mode": {
    "name": "ipython",
    "version": 2
   },
   "file_extension": ".py",
   "mimetype": "text/x-python",
   "name": "python",
   "nbconvert_exporter": "python",
   "pygments_lexer": "ipython2",
   "version": "2.7.16"
  }
 },
 "nbformat": 4,
 "nbformat_minor": 2
}
